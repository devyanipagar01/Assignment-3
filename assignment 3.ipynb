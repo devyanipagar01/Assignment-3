{
 "cells": [
  {
   "cell_type": "markdown",
   "metadata": {},
   "source": [
    "Question 1 \n",
    "Write a Python program to merge two files into a third file. \n"
   ]
  },
  {
   "cell_type": "code",
   "execution_count": 3,
   "metadata": {},
   "outputs": [
    {
     "data": {
      "text/plain": [
       "70"
      ]
     },
     "execution_count": 3,
     "metadata": {},
     "output_type": "execute_result"
    }
   ],
   "source": [
    "file1=open(r'C:\\Users\\lenovo\\File1.txt') #open file1\n",
    "text1=file1.read() #read all data from file1 to text1\n",
    "file2=open(r'C:\\Users\\lenovo\\file2.txt') #open file12\n",
    "text2=file2.read() #read all data from file2 to text2\n",
    "text1=text1+\"\\n\" # create new line in 1st file\n",
    "text1=text1+text2 #move data from text 1 to text2 or merge the data\n",
    "file3=open(r'C:\\Users\\lenovo\\file3.txt','w') # open 3rd file\n",
    "file3.write(text1) #write merged data in 3rd file"
   ]
  },
  {
   "cell_type": "markdown",
   "metadata": {},
   "source": [
    "Question 2\n",
    "Take two lists as input list1 = [1,2,3,4,5] and list2 = [\"a\", \"b\", \"c\", \"d\", \"e\"] \n",
    "From that make a dictionary ouput {1:\"a\", 2:\"b\", 3:\"c\", 4:\"d\", 5:\"e\"}"
   ]
  },
  {
   "cell_type": "code",
   "execution_count": 4,
   "metadata": {},
   "outputs": [
    {
     "name": "stdout",
     "output_type": "stream",
     "text": [
      "{1: 'a', 2: 'a', 3: 'a', 4: 'a', 5: 'a'}\n"
     ]
    }
   ],
   "source": [
    "list1=[1,2,3,4,5] #create list for keys in dictionary\n",
    "list2=[\"a\",\"b\",\"c\",\"d\",\"e\"] #create list for values in dictionary \n",
    "output={} # create empty dictionary\n",
    "for key in list1: \n",
    "    for value in list2:\n",
    "        output[key]=value #move keys and value from both list into the empty dictionary        \n",
    "        break\n",
    "print(output) #print output"
   ]
  },
  {
   "cell_type": "code",
   "execution_count": null,
   "metadata": {},
   "outputs": [],
   "source": []
  }
 ],
 "metadata": {
  "kernelspec": {
   "display_name": "Python 3",
   "language": "python",
   "name": "python3"
  },
  "language_info": {
   "codemirror_mode": {
    "name": "ipython",
    "version": 3
   },
   "file_extension": ".py",
   "mimetype": "text/x-python",
   "name": "python",
   "nbconvert_exporter": "python",
   "pygments_lexer": "ipython3",
   "version": "3.7.6"
  }
 },
 "nbformat": 4,
 "nbformat_minor": 4
}
